{
 "cells": [
  {
   "cell_type": "code",
   "execution_count": 10,
   "metadata": {
    "collapsed": false
   },
   "outputs": [],
   "source": [
    "import numpy as np\n",
    "from matplotlib import pyplot as plt\n",
    "%matplotlib inline\n",
    "from astropy.io import fits\n",
    "\n",
    "import HELP\n",
    "gmod = HELP.get_model\n",
    "makmod = HELP.make_spotmodel\n",
    "\n",
    "import getMag\n",
    "gMag = getMag.getMag\n",
    "\n",
    "import getMag_hires\n",
    "gMag_hires = getMag_hires.getMag_hires"
   ]
  },
  {
   "cell_type": "code",
   "execution_count": 11,
   "metadata": {
    "collapsed": false
   },
   "outputs": [
    {
     "data": {
      "text/plain": [
       "<matplotlib.text.Text at 0x10bb09be0>"
      ]
     },
     "execution_count": 11,
     "metadata": {},
     "output_type": "execute_result"
    },
    {
     "data": {
      "image/png": "[encoded data removed]",
      "text/plain": [
       "<matplotlib.figure.Figure at 0x113545198>"
      ]
     },
     "metadata": {},
     "output_type": "display_data"
    }
   ],
   "source": [
    "PhTemp = '4000'\n",
    "SpTemp = '2300'\n",
    "FillFactor = .2\n",
    "wavelength,tot_flux,PhTemp,SpTemp,FillFactor = makmod(PhTemp,SpTemp,FillFactor) #Creates spectrum for desired temps and fill-factor\n",
    "\n",
    "plt.plot(wavelength,tot_flux)\n",
    "plt.xlim(0,27000)\n",
    "plt.xlabel('Wavelength ($\\AA$)')\n",
    "plt.ylabel(r'Flux $\\left(\\frac{W}{cm^2}\\right)$')"
   ]
  },
  {
   "cell_type": "code",
   "execution_count": 13,
   "metadata": {
    "collapsed": false
   },
   "outputs": [
    {
     "name": "stdout",
     "output_type": "stream",
     "text": [
      "[('Ks', 21589.999999999996, -76.685349359150692), ('H', 16620.0, -76.510571638547788), ('J', 12350.000000000002, -75.795624262583971), ('U', 3650.0, -70.703948143373708), ('B', 4450.0, -71.949261504832577), ('V', 5510.0, -73.187399075029745), ('R', 6580.0, -73.938333303893884), ('I', 8060.000000000001, -74.720165044831361)]\n"
     ]
    },
    {
     "data": {
      "text/plain": [
       "[<matplotlib.lines.Line2D at 0x115c21fd0>]"
      ]
     },
     "execution_count": 13,
     "metadata": {},
     "output_type": "execute_result"
    },
    {
     "data": {
      "image/png": "[encoded data removed]",
      "text/plain": [
       "<matplotlib.figure.Figure at 0x10c569ef0>"
      ]
     },
     "metadata": {},
     "output_type": "display_data"
    }
   ],
   "source": [
    "#initialize arrays of filter names\n",
    "bands = np.array(['Ks','H','J','U','B','V','R','I'])\n",
    "bands_hires = ['Ks','H','J']\n",
    "\n",
    "\n",
    "#fill up a 3D array 'syn_phot' with: filter name, center point, magnitude\n",
    "syn_phot = []\n",
    "for i in range(len(bands)):\n",
    "    x = gMag(bands[i],wavelength,tot_flux,'angstrom') #x returns three values; band, center, mag\n",
    "    syn_phot.append(x)\n",
    "\n",
    "\n",
    "print(syn_phot)\n",
    "centers = [i[1] for i in syn_phot]\n",
    "magnitudes = [i[2] for i in syn_phot]\n",
    "plt.plot(centers,magnitudes,'ro')"
   ]
  },
  {
   "cell_type": "code",
   "execution_count": null,
   "metadata": {
    "collapsed": true
   },
   "outputs": [],
   "source": []
  }
 ],
 "metadata": {
  "anaconda-cloud": {},
  "kernelspec": {
   "display_name": "Python [Root]",
   "language": "python",
   "name": "Python [Root]"
  },
  "language_info": {
   "codemirror_mode": {
    "name": "ipython",
    "version": 3
   },
   "file_extension": ".py",
   "mimetype": "text/x-python",
   "name": "python",
   "nbconvert_exporter": "python",
   "pygments_lexer": "ipython3",
   "version": "3.5.1"
  }
 },
 "nbformat": 4,
 "nbformat_minor": 0
}
