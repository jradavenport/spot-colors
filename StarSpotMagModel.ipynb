{
 "cells": [
  {
   "cell_type": "code",
   "execution_count": 40,
   "metadata": {
    "collapsed": false
   },
   "outputs": [],
   "source": [
    "import numpy as np\n",
    "from matplotlib import pyplot as plt\n",
    "%matplotlib inline\n",
    "from astropy.io import fits\n",
    "\n",
    "import HELP\n",
    "gmod = HELP.get_model\n",
    "makmod = HELP.make_spotmodel\n",
    "\n",
    "import getMag\n",
    "gMag = getMag.getMag\n",
    "\n",
    "import getMag_hires\n",
    "gMag_hires = getMag_hires.getMag_hires"
   ]
  },
  {
   "cell_type": "code",
   "execution_count": 39,
   "metadata": {
    "collapsed": false
   },
   "outputs": [
    {
     "name": "stderr",
     "output_type": "stream",
     "text": [
      "ERROR: An unexpected error occurred while tokenizing input\n",
      "The following traceback may be corrupted or invalid\n",
      "The error message is: ('EOF in multi-line string', (1, 4))\n",
      "\n"
     ]
    },
    {
     "ename": "NameError",
     "evalue": "name 'fits' is not defined",
     "output_type": "error",
     "traceback": [
      "\u001b[0;31m---------------------------------------------------------------------------\u001b[0m",
      "\u001b[0;31mNameError\u001b[0m                                 Traceback (most recent call last)",
      "\u001b[0;32m<ipython-input-39-8fad9e8815fe>\u001b[0m in \u001b[0;36m<module>\u001b[0;34m()\u001b[0m\n\u001b[1;32m      2\u001b[0m \u001b[0mSpTemp\u001b[0m \u001b[0;34m=\u001b[0m \u001b[0;34m'3000'\u001b[0m\u001b[0;34m\u001b[0m\u001b[0m\n\u001b[1;32m      3\u001b[0m \u001b[0mFillFactor\u001b[0m \u001b[0;34m=\u001b[0m \u001b[0;36m.2\u001b[0m\u001b[0;34m\u001b[0m\u001b[0m\n\u001b[0;32m----> 4\u001b[0;31m \u001b[0mmakmod\u001b[0m\u001b[0;34m(\u001b[0m\u001b[0mPhTemp\u001b[0m\u001b[0;34m,\u001b[0m\u001b[0mSpTemp\u001b[0m\u001b[0;34m,\u001b[0m\u001b[0mFillFactor\u001b[0m\u001b[0;34m)\u001b[0m \u001b[0;31m#Creates spectrum for desired temps and fill-factor\u001b[0m\u001b[0;34m\u001b[0m\u001b[0m\n\u001b[0m\u001b[1;32m      5\u001b[0m \u001b[0;34m\u001b[0m\u001b[0m\n",
      "\u001b[0;32m/Users/saethen/Google Drive/WWU/Covey Research 2016/spot_colors/HELP.py\u001b[0m in \u001b[0;36mmake_spotmodel\u001b[0;34m(PhTemp, SpTemp, FillFactor)\u001b[0m\n\u001b[1;32m     54\u001b[0m     \u001b[0mPhTemp\u001b[0m\u001b[0;34m,\u001b[0m \u001b[0mSpTemp\u001b[0m\u001b[0;34m,\u001b[0m \u001b[0mFillFactor\u001b[0m\u001b[0;34m:\u001b[0m \u001b[0mstr\u001b[0m\u001b[0;34m\u001b[0m\u001b[0m\n\u001b[1;32m     55\u001b[0m         \u001b[0mInput\u001b[0m \u001b[0mvalues\u001b[0m\u001b[0;34m\u001b[0m\u001b[0m\n\u001b[0;32m---> 56\u001b[0;31m     '''\n\u001b[0m\u001b[1;32m     57\u001b[0m     \u001b[0mtot_flux\u001b[0m \u001b[0;34m=\u001b[0m \u001b[0;34m(\u001b[0m\u001b[0;36m1\u001b[0m\u001b[0;34m-\u001b[0m\u001b[0mFillFactor\u001b[0m\u001b[0;34m)\u001b[0m\u001b[0;34m*\u001b[0m\u001b[0mget_model\u001b[0m\u001b[0;34m(\u001b[0m \u001b[0mPhTemp\u001b[0m \u001b[0;34m)\u001b[0m\u001b[0;34m[\u001b[0m\u001b[0;36m1\u001b[0m\u001b[0;34m]\u001b[0m \u001b[0;34m+\u001b[0m \u001b[0mFillFactor\u001b[0m\u001b[0;34m*\u001b[0m\u001b[0mget_model\u001b[0m\u001b[0;34m(\u001b[0m \u001b[0mSpTemp\u001b[0m \u001b[0;34m)\u001b[0m\u001b[0;34m[\u001b[0m\u001b[0;36m1\u001b[0m\u001b[0;34m]\u001b[0m\u001b[0;34m\u001b[0m\u001b[0m\n\u001b[1;32m     58\u001b[0m     \u001b[0;32mreturn\u001b[0m \u001b[0mwavelength\u001b[0m\u001b[0;34m,\u001b[0m \u001b[0mtot_flux\u001b[0m\u001b[0;34m,\u001b[0m \u001b[0mPhTemp\u001b[0m\u001b[0;34m,\u001b[0m \u001b[0mSpTemp\u001b[0m\u001b[0;34m,\u001b[0m \u001b[0mFillFactor\u001b[0m\u001b[0;34m\u001b[0m\u001b[0m\n",
      "\u001b[0;32m/Users/saethen/Google Drive/WWU/Covey Research 2016/spot_colors/HELP.py\u001b[0m in \u001b[0;36mget_model\u001b[0;34m(temp)\u001b[0m\n\u001b[1;32m     23\u001b[0m         \u001b[0mSee\u001b[0m \u001b[0mParameters\u001b[0m\u001b[0;34m\u001b[0m\u001b[0m\n\u001b[1;32m     24\u001b[0m     '''\n\u001b[0;32m---> 25\u001b[0;31m     \u001b[0mmodel_file\u001b[0m \u001b[0;34m=\u001b[0m \u001b[0;34m'PHOENIX-ACES-AGSS-COND-2011_R10000FITS_Z-0.0/lte0'\u001b[0m \u001b[0;34m+\u001b[0m \u001b[0mtemp\u001b[0m \u001b[0;34m+\u001b[0m \u001b[0;34m'-4.50-0.0.PHOENIX-ACES-AGSS-COND-2011-HiRes.fits'\u001b[0m\u001b[0;34m\u001b[0m\u001b[0m\n\u001b[0m\u001b[1;32m     26\u001b[0m     \u001b[0mhdulist\u001b[0m \u001b[0;34m=\u001b[0m \u001b[0mfits\u001b[0m\u001b[0;34m.\u001b[0m\u001b[0mopen\u001b[0m\u001b[0;34m(\u001b[0m\u001b[0mmodel_file\u001b[0m\u001b[0;34m)\u001b[0m\u001b[0;34m\u001b[0m\u001b[0m\n\u001b[1;32m     27\u001b[0m     \u001b[0mflux\u001b[0m \u001b[0;34m=\u001b[0m \u001b[0mhdulist\u001b[0m\u001b[0;34m[\u001b[0m\u001b[0;36m0\u001b[0m\u001b[0;34m]\u001b[0m\u001b[0;34m.\u001b[0m\u001b[0mdata\u001b[0m\u001b[0;34m\u001b[0m\u001b[0m\n",
      "\u001b[0;31mNameError\u001b[0m: name 'fits' is not defined"
     ]
    }
   ],
   "source": [
    "PhTemp = '3500'\n",
    "SpTemp = '3000'\n",
    "FillFactor = .2\n",
    "makmod(PhTemp,SpTemp,FillFactor) #Creates spectrum for desired temps and fill-factor\n",
    "\n"
   ]
  },
  {
   "cell_type": "code",
   "execution_count": 38,
   "metadata": {
    "collapsed": false
   },
   "outputs": [
    {
     "ename": "NameError",
     "evalue": "name 'wavelength' is not defined",
     "output_type": "error",
     "traceback": [
      "\u001b[0;31m---------------------------------------------------------------------------\u001b[0m",
      "\u001b[0;31mNameError\u001b[0m                                 Traceback (most recent call last)",
      "\u001b[0;32m<ipython-input-38-385b41fef1f6>\u001b[0m in \u001b[0;36m<module>\u001b[0;34m()\u001b[0m\n\u001b[1;32m      5\u001b[0m \u001b[0;34m\u001b[0m\u001b[0m\n\u001b[1;32m      6\u001b[0m \u001b[0;32mif\u001b[0m \u001b[0mhires\u001b[0m\u001b[0;34m==\u001b[0m\u001b[0;34m'no'\u001b[0m\u001b[0;34m:\u001b[0m\u001b[0;34m\u001b[0m\u001b[0m\n\u001b[0;32m----> 7\u001b[0;31m     \u001b[0mgMag\u001b[0m\u001b[0;34m(\u001b[0m\u001b[0mband\u001b[0m\u001b[0;34m,\u001b[0m\u001b[0mwavelength\u001b[0m\u001b[0;34m,\u001b[0m\u001b[0mtot_flux\u001b[0m\u001b[0;34m,\u001b[0m\u001b[0mangstrom\u001b[0m\u001b[0;34m)\u001b[0m\u001b[0;34m\u001b[0m\u001b[0m\n\u001b[0m\u001b[1;32m      8\u001b[0m \u001b[0;34m\u001b[0m\u001b[0m\n\u001b[1;32m      9\u001b[0m \u001b[0;32melif\u001b[0m \u001b[0mhires\u001b[0m\u001b[0;34m==\u001b[0m\u001b[0;34m'yes'\u001b[0m\u001b[0;34m:\u001b[0m\u001b[0;34m\u001b[0m\u001b[0m\n",
      "\u001b[0;31mNameError\u001b[0m: name 'wavelength' is not defined"
     ]
    }
   ],
   "source": [
    "#Combine this cell with the one above once I can read in the Phoenix file correctly....\n",
    "\n",
    "hires = 'no'\n",
    "band = 'Ks'\n",
    "\n",
    "if hires=='no':\n",
    "    gMag(band,wavelength,tot_flux,angstrom)\n",
    "\n",
    "elif hires=='yes':\n",
    "    gMag_hires(band,wavelength,tot_flux,angstrom)"
   ]
  },
  {
   "cell_type": "code",
   "execution_count": null,
   "metadata": {
    "collapsed": true
   },
   "outputs": [],
   "source": []
  }
 ],
 "metadata": {
  "anaconda-cloud": {},
  "kernelspec": {
   "display_name": "Python [Root]",
   "language": "python",
   "name": "Python [Root]"
  },
  "language_info": {
   "codemirror_mode": {
    "name": "ipython",
    "version": 3
   },
   "file_extension": ".py",
   "mimetype": "text/x-python",
   "name": "python",
   "nbconvert_exporter": "python",
   "pygments_lexer": "ipython3",
   "version": "3.5.1"
  }
 },
 "nbformat": 4,
 "nbformat_minor": 0
}
