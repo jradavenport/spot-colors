{
 "cells": [
  {
   "cell_type": "markdown",
   "metadata": {},
   "source": [
    "## Notebook specifically for creating a $\\Delta m$ vs. $\\lambda$ plot to see the affect starspots of various size and temperature will have on various bandpass magnitudes we are interested in."
   ]
  },
  {
   "cell_type": "code",
   "execution_count": 1,
   "metadata": {
    "collapsed": true
   },
   "outputs": [],
   "source": [
    "import numpy as np\n",
    "import matplotlib as mpl\n",
    "from matplotlib import pyplot as plt\n",
    "%matplotlib inline\n",
    "import pandas as pd\n",
    "\n",
    "import HELP\n",
    "get_model = HELP.get_model\n",
    "make_spotmodel = HELP.make_spotmodel\n",
    "Dotter_rad = HELP.Dotter_rad\n",
    "MagConvert = HELP.MagConvert\n",
    "V_VKPlotData = HELP.V_VKPlotData\n",
    "PleiadesDeltaV_VK = HELP.PleiadesDeltaV_VK\n",
    "CMDData = HELP.CMDData\n",
    "DeltaVfunc = HELP.DeltaVfunc\n",
    "\n",
    "import getMag\n",
    "getMag = getMag.getMag\n",
    "\n",
    "import getMag_hires\n",
    "getMag_hires = getMag_hires.getMag_hires"
   ]
  },
  {
   "cell_type": "code",
   "execution_count": 34,
   "metadata": {
    "collapsed": false
   },
   "outputs": [
    {
     "name": "stdout",
     "output_type": "stream",
     "text": [
      "[('U', 0.365, 5.7389142389326775), ('B', 0.445, 5.6829617273790056), ('V', 0.551, 4.9918828351727047), ('R', 0.658, 4.6646198217101), ('J', 1.235, 3.8701433579144764), ('H', 1.662, 3.5091529698031487), ('Ks', 2.159, 3.4575141423412465)]\n",
      "\n",
      "[('U', 0.365, 6.9789917589892738), ('B', 0.445, 6.6970036134937665), ('V', 0.551, 5.8468458996326476), ('R', 0.658, 5.3914583702469585), ('J', 1.235, 4.3022374291207885), ('H', 1.662, 3.7600000381502152), ('Ks', 2.159, 3.6747360148433881)]\n",
      "\n",
      "[('U', 0.365, 6.4905821540782735), ('B', 0.445, 6.433415533639594), ('V', 0.551, 5.7403284915674977), ('R', 0.658, 5.4065409943889806), ('J', 1.235, 4.481385180934879), ('H', 1.662, 4.0802423859722792), ('Ks', 2.159, 3.987497198388088)]\n",
      "\n"
     ]
    }
   ],
   "source": [
    "PhTemp = '5800'\n",
    "SpTempRange = [1,0.8,0.5]\n",
    "FillFactorRange = [1,0.75,0.5]\n",
    "#initialize arrays of filter names\n",
    "bands = np.array(['U','B','V','R','J','H','Ks'])\n",
    "\n",
    "syn_phot_combined = []\n",
    "for i in range(len(SpTempRange)):\n",
    "    SpTemp = str(round(SpTempRange[i]*5800/100)*100)\n",
    "    FillFactor = FillFactorRange[i]\n",
    "    wavelength,flux_Phoenix,PhTemp,SpTemp,FillFactor = make_spotmodel(PhTemp,SpTemp,FillFactor) #Creates spectrum for desired temps and fill-factor\n",
    "    Flux = Dotter_rad( PhTemp, flux_Phoenix )\n",
    "\n",
    "    #fill up a 3D array 'syn_phot' with: filter name, center point, magnitude\n",
    "    syn_phot = []\n",
    "    for i in range(len(bands)):\n",
    "        x = getMag_hires(bands[i],wavelength,Flux,'microns') #x returns three values; band, center, mag\n",
    "        syn_phot.append(x)\n",
    "    Filters, Centers, Magnitudes = MagConvert(syn_phot)\n",
    "    syn_phot_combined.append(syn_phot)\n",
    "for i in range(len(syn_phot_combined)):\n",
    "    print(syn_phot_combined[i])\n",
    "    print()\n",
    "\n"
   ]
  },
  {
   "cell_type": "code",
   "execution_count": 35,
   "metadata": {
    "collapsed": false
   },
   "outputs": [
    {
     "data": {
      "image/png": "[encoded data removed]",
      "text/plain": [
       "<matplotlib.figure.Figure at 0x10aabe128>"
      ]
     },
     "metadata": {},
     "output_type": "display_data"
    }
   ],
   "source": [
    "PointType = ['ro','g^','bs']\n",
    "UnSpotMag = [i[2] for i in syn_phot_combined[0]] #Magnitudes of the unspotted star\n",
    "idx=0\n",
    "for i in range(len(syn_phot_combined)):\n",
    "    Centers = [i[1] for i in syn_phot_combined[idx]]\n",
    "    Magnitudes = [i[2] for i in syn_phot_combined[idx]]\n",
    "    DeltaMag = []\n",
    "    for i in range(len(UnSpotMag)):\n",
    "        x = [UnSpotMag[i] - Magnitudes[i]]\n",
    "        DeltaMag.append(x)\n",
    "    plt.plot(Centers,DeltaMag,PointType[idx])\n",
    "    idx=idx+1\n",
    "\n",
    "\n",
    "plt.savefig('FirstRunDeltaMvLambda.jpg')"
   ]
  },
  {
   "cell_type": "code",
   "execution_count": null,
   "metadata": {
    "collapsed": true
   },
   "outputs": [],
   "source": []
  }
 ],
 "metadata": {
  "anaconda-cloud": {},
  "kernelspec": {
   "display_name": "Python [Root]",
   "language": "python",
   "name": "Python [Root]"
  },
  "language_info": {
   "codemirror_mode": {
    "name": "ipython",
    "version": 3
   },
   "file_extension": ".py",
   "mimetype": "text/x-python",
   "name": "python",
   "nbconvert_exporter": "python",
   "pygments_lexer": "ipython3",
   "version": "3.5.1"
  }
 },
 "nbformat": 4,
 "nbformat_minor": 0
}
